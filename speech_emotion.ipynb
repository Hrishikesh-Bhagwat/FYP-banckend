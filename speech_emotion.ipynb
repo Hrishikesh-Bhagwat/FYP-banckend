{
 "cells": [
  {
   "cell_type": "code",
   "execution_count": null,
   "metadata": {},
   "outputs": [],
   "source": [
    "conda install -c PyAudio"
   ]
  },
  {
   "cell_type": "code",
   "execution_count": 1,
   "metadata": {},
   "outputs": [],
   "source": [
    "#Install all the Reqiuired Libraries and Packages \n",
    "import os\n",
    "import glob\n",
    "from tqdm import tqdm\n",
    "import pandas as pd\n",
    "import numpy as np\n",
    "import matplotlib.pyplot as plt\n",
    "from scipy.io import wavfile\n",
    "from python_speech_features import mfcc , logfbank\n",
    "import librosa as lr\n",
    "import os, glob, pickle\n",
    "import librosa\n",
    "from scipy import signal\n",
    "import noisereduce as nr\n",
    "from glob import glob\n",
    "import librosa\n",
    "get_ipython().magic('matplotlib inline')\n",
    "#All the Required Packages and Libraies are installed.\n",
    "import soundfile\n",
    "from sklearn.model_selection import train_test_split"
   ]
  },
  {
   "cell_type": "code",
   "execution_count": 2,
   "metadata": {},
   "outputs": [
    {
     "data": {
      "text/plain": [
       "1439"
      ]
     },
     "execution_count": 2,
     "metadata": {},
     "output_type": "execute_result"
    }
   ],
   "source": [
    "#Loading the required RAVDESS DataSet with length of 1439 Audio Files \n",
    "os.listdir(path='.\\speech-emotion-recognition-ravdess-data')\n",
    "def getListOfFiles(dirName):\n",
    "    listOfFile=os.listdir(dirName)\n",
    "    allFiles=list()\n",
    "    for entry in listOfFile:\n",
    "        fullPath=os.path.join(dirName, entry)\n",
    "        if os.path.isdir(fullPath):\n",
    "            allFiles=allFiles + getListOfFiles(fullPath)\n",
    "        else:\n",
    "            allFiles.append(fullPath)\n",
    "    return allFiles\n",
    "\n",
    "dirName = './speech-emotion-recognition-ravdess-data'\n",
    "listOfFiles = getListOfFiles(dirName)\n",
    "len(listOfFiles)"
   ]
  },
  {
   "cell_type": "code",
   "execution_count": null,
   "metadata": {},
   "outputs": [],
   "source": []
  },
  {
   "cell_type": "code",
   "execution_count": 6,
   "metadata": {},
   "outputs": [],
   "source": [
    "#Now Cleaning Step is Performed where:\n",
    "#DOWN SAMPLING OF AUDIO FILES IS DONE  AND PUT MASK OVER IT AND DIRECT INTO CLEAN FOLDER\n",
    "#MASK IS TO REMOVE UNNECESSARY EMPTY VOIVES AROUND THE MAIN AUDIO VOICE \n",
    "def envelope(y , rate, threshold):\n",
    "    mask=[]\n",
    "    y=pd.Series(y).apply(np.abs)\n",
    "    y_mean = y.rolling(window=int(rate/10) ,  min_periods=1 , center = True).mean()\n",
    "    for mean in y_mean:\n",
    "        if mean>threshold:\n",
    "            mask.append(True)\n",
    "        else:\n",
    "            mask.append(False)\n",
    "    return mask"
   ]
  },
  {
   "cell_type": "code",
   "execution_count": 3,
   "metadata": {},
   "outputs": [
    {
     "data": {
      "image/png": "[encoded data removed]",
      "text/plain": [
       "<Figure size 432x288 with 1 Axes>"
      ]
     },
     "metadata": {
      "needs_background": "light"
     },
     "output_type": "display_data"
    },
    {
     "name": "stderr",
     "output_type": "stream",
     "text": [
      "C:\\Users\\bhagw\\AppData\\Local\\Temp/ipykernel_6316/2838050798.py:15: MatplotlibDeprecationWarning: shading='flat' when X and Y have the same dimensions as C is deprecated since 3.3.  Either specify the corners of the quadrilaterals with X and Y, or pass shading='auto', 'nearest' or 'gouraud', or set rcParams['pcolor.shading'].  This will become an error two minor releases later.\n",
      "  plt.pcolormesh(times, frequencies, spectrogram)\n"
     ]
    },
    {
     "data": {
      "image/png": "[encoded data removed]",
      "text/plain": [
       "<Figure size 432x288 with 1 Axes>"
      ]
     },
     "metadata": {
      "needs_background": "light"
     },
     "output_type": "display_data"
    }
   ],
   "source": [
    "#Plotting the Basic Graphs for understanding of Audio Files :\n",
    "for file in range(0 ,1):#len(listOfFiles) , 1):\n",
    "    audio , sfreq = lr.load(listOfFiles[file])\n",
    "    time = np.arange(0 , len(audio)) / sfreq\n",
    "    \n",
    "    fig ,ax = plt.subplots()\n",
    "    ax.plot(time , audio)\n",
    "    ax.set(xlabel = 'Time (s)' , ylabel = 'Sound Amplitude')\n",
    "    plt.show()\n",
    "    \n",
    "#PLOT THE SEPCTOGRAM\n",
    "for file in range(0,1):\n",
    "    sample_rate , samples = wavfile.read(listOfFiles[file])\n",
    "    frequencies , times, spectrogram = signal.spectrogram(samples, sample_rate) \n",
    "    plt.pcolormesh(times, frequencies, spectrogram)\n",
    "    plt.imshow(spectrogram)\n",
    "    plt.ylabel('Frequency [Hz]')\n",
    "    plt.xlabel('Time [sec]')\n",
    "    plt.show()"
   ]
  },
  {
   "cell_type": "code",
   "execution_count": 4,
   "metadata": {},
   "outputs": [],
   "source": [
    "#Next Step is In-Depth Visualisation of Audio Fiels and its certain features to plot for.\n",
    "#They are the Plotting Functions to be called later. \n",
    "def plot_signals(signals):\n",
    "    fig , axes = plt.subplots(nrows=2, ncols=5,sharex =False , sharey=True, figsize=(20,5))\n",
    "    fig.suptitle('Time Series' , size=16)\n",
    "    i=0\n",
    "    for x in range(2):\n",
    "        for y in range(5):\n",
    "            axes[x,y].set_title(list(signals.keys())[i])\n",
    "            axes[x,y].plot(list(signals.values())[i])\n",
    "            axes[x,y].get_xaxis().set_visible(False)\n",
    "            axes[x,y].get_yaxis().set_visible(False)\n",
    "            i +=1\n",
    "\n",
    "def plot_fft(fft):\n",
    "    fig , axes = plt.subplots(nrows=2, ncols=5,sharex =False , sharey=True, figsize=(20,5))\n",
    "    fig.suptitle('Fourier Transform' , size=16)\n",
    "    i=0\n",
    "    for x in range(2):\n",
    "        for y in range(5):\n",
    "            data = list(fft.values())[i]\n",
    "            Y,freq = data[0] , data[1]\n",
    "            axes[x,y].set_title(list(fft.keys())[i])\n",
    "            axes[x,y].plot(freq , Y)\n",
    "            axes[x,y].get_xaxis().set_visible(False)\n",
    "            axes[x,y].get_yaxis().set_visible(False)\n",
    "            i +=1\n",
    "    \n",
    "def plot_fbank(fbank):\n",
    "    fig , axes = plt.subplots(nrows=2, ncols=5,sharex =False , sharey=True, figsize=(20,5))\n",
    "    fig.suptitle('Filter Bank Coefficients' , size=16)\n",
    "    i=0\n",
    "    for x in range(2):\n",
    "        for y in range(5):\n",
    "            axes[x,y].set_title(list(fbank.keys())[i])\n",
    "            axes[x,y].imshow(list(fbank.values())[i],cmap='hot', interpolation = 'nearest')\n",
    "            axes[x,y].get_xaxis().set_visible(False)\n",
    "            axes[x,y].get_yaxis().set_visible(False)\n",
    "            i +=1\n",
    "            \n",
    "def plot_mfccs(mfccs):\n",
    "    fig , axes = plt.subplots(nrows=2, ncols=5,sharex =False , sharey=True, figsize=(20,5))\n",
    "    fig.suptitle('Mel Frequency Capstrum  Coefficients' , size=16)\n",
    "    i=0\n",
    "    for x in range(2):\n",
    "        for y in range(5):\n",
    "            axes[x,y].set_title(list(mfccs.keys())[i])\n",
    "            axes[x,y].imshow(list(mfccs.values())[i],\n",
    "                             cmap='hot', interpolation = 'nearest')\n",
    "            axes[x,y].get_xaxis().set_visible(False)\n",
    "            axes[x,y].get_yaxis().set_visible(False)\n",
    "            i +=1\n",
    "\n",
    "def calc_fft(y,rate):\n",
    "    n = len(y)\n",
    "    freq = np.fft.rfftfreq(n , d= 1/rate)\n",
    "    Y= abs(np.fft.rfft(y)/n)\n",
    "    return(Y,freq)"
   ]
  },
  {
   "cell_type": "code",
   "execution_count": 7,
   "metadata": {},
   "outputs": [
    {
     "data": {
      "image/png": "[encoded data removed]",
      "text/plain": [
       "<Figure size 432x288 with 1 Axes>"
      ]
     },
     "metadata": {
      "needs_background": "light"
     },
     "output_type": "display_data"
    },
    {
     "ename": "IndexError",
     "evalue": "list index out of range",
     "output_type": "error",
     "traceback": [
      "\u001b[1;31m---------------------------------------------------------------------------\u001b[0m",
      "\u001b[1;31mIndexError\u001b[0m                                Traceback (most recent call last)",
      "\u001b[1;32m~\\AppData\\Local\\Temp/ipykernel_6316/1591623205.py\u001b[0m in \u001b[0;36m<module>\u001b[1;34m\u001b[0m\n\u001b[0;32m     28\u001b[0m     \u001b[0mmfccs\u001b[0m\u001b[1;33m[\u001b[0m\u001b[0mfile\u001b[0m\u001b[1;33m]\u001b[0m\u001b[1;33m=\u001b[0m\u001b[0mmel\u001b[0m\u001b[1;33m\u001b[0m\u001b[1;33m\u001b[0m\u001b[0m\n\u001b[0;32m     29\u001b[0m \u001b[1;33m\u001b[0m\u001b[0m\n\u001b[1;32m---> 30\u001b[1;33m \u001b[0mplot_signals\u001b[0m\u001b[1;33m(\u001b[0m\u001b[0msignals\u001b[0m\u001b[1;33m)\u001b[0m\u001b[1;33m\u001b[0m\u001b[1;33m\u001b[0m\u001b[0m\n\u001b[0m\u001b[0;32m     31\u001b[0m \u001b[0mplt\u001b[0m\u001b[1;33m.\u001b[0m\u001b[0mshow\u001b[0m\u001b[1;33m(\u001b[0m\u001b[1;33m)\u001b[0m\u001b[1;33m\u001b[0m\u001b[1;33m\u001b[0m\u001b[0m\n\u001b[0;32m     32\u001b[0m \u001b[1;33m\u001b[0m\u001b[0m\n",
      "\u001b[1;32m~\\AppData\\Local\\Temp/ipykernel_6316/3083703893.py\u001b[0m in \u001b[0;36mplot_signals\u001b[1;34m(signals)\u001b[0m\n\u001b[0;32m      7\u001b[0m     \u001b[1;32mfor\u001b[0m \u001b[0mx\u001b[0m \u001b[1;32min\u001b[0m \u001b[0mrange\u001b[0m\u001b[1;33m(\u001b[0m\u001b[1;36m2\u001b[0m\u001b[1;33m)\u001b[0m\u001b[1;33m:\u001b[0m\u001b[1;33m\u001b[0m\u001b[1;33m\u001b[0m\u001b[0m\n\u001b[0;32m      8\u001b[0m         \u001b[1;32mfor\u001b[0m \u001b[0my\u001b[0m \u001b[1;32min\u001b[0m \u001b[0mrange\u001b[0m\u001b[1;33m(\u001b[0m\u001b[1;36m5\u001b[0m\u001b[1;33m)\u001b[0m\u001b[1;33m:\u001b[0m\u001b[1;33m\u001b[0m\u001b[1;33m\u001b[0m\u001b[0m\n\u001b[1;32m----> 9\u001b[1;33m             \u001b[0maxes\u001b[0m\u001b[1;33m[\u001b[0m\u001b[0mx\u001b[0m\u001b[1;33m,\u001b[0m\u001b[0my\u001b[0m\u001b[1;33m]\u001b[0m\u001b[1;33m.\u001b[0m\u001b[0mset_title\u001b[0m\u001b[1;33m(\u001b[0m\u001b[0mlist\u001b[0m\u001b[1;33m(\u001b[0m\u001b[0msignals\u001b[0m\u001b[1;33m.\u001b[0m\u001b[0mkeys\u001b[0m\u001b[1;33m(\u001b[0m\u001b[1;33m)\u001b[0m\u001b[1;33m)\u001b[0m\u001b[1;33m[\u001b[0m\u001b[0mi\u001b[0m\u001b[1;33m]\u001b[0m\u001b[1;33m)\u001b[0m\u001b[1;33m\u001b[0m\u001b[1;33m\u001b[0m\u001b[0m\n\u001b[0m\u001b[0;32m     10\u001b[0m             \u001b[0maxes\u001b[0m\u001b[1;33m[\u001b[0m\u001b[0mx\u001b[0m\u001b[1;33m,\u001b[0m\u001b[0my\u001b[0m\u001b[1;33m]\u001b[0m\u001b[1;33m.\u001b[0m\u001b[0mplot\u001b[0m\u001b[1;33m(\u001b[0m\u001b[0mlist\u001b[0m\u001b[1;33m(\u001b[0m\u001b[0msignals\u001b[0m\u001b[1;33m.\u001b[0m\u001b[0mvalues\u001b[0m\u001b[1;33m(\u001b[0m\u001b[1;33m)\u001b[0m\u001b[1;33m)\u001b[0m\u001b[1;33m[\u001b[0m\u001b[0mi\u001b[0m\u001b[1;33m]\u001b[0m\u001b[1;33m)\u001b[0m\u001b[1;33m\u001b[0m\u001b[1;33m\u001b[0m\u001b[0m\n\u001b[0;32m     11\u001b[0m             \u001b[0maxes\u001b[0m\u001b[1;33m[\u001b[0m\u001b[0mx\u001b[0m\u001b[1;33m,\u001b[0m\u001b[0my\u001b[0m\u001b[1;33m]\u001b[0m\u001b[1;33m.\u001b[0m\u001b[0mget_xaxis\u001b[0m\u001b[1;33m(\u001b[0m\u001b[1;33m)\u001b[0m\u001b[1;33m.\u001b[0m\u001b[0mset_visible\u001b[0m\u001b[1;33m(\u001b[0m\u001b[1;32mFalse\u001b[0m\u001b[1;33m)\u001b[0m\u001b[1;33m\u001b[0m\u001b[1;33m\u001b[0m\u001b[0m\n",
      "\u001b[1;31mIndexError\u001b[0m: list index out of range"
     ]
    },
    {
     "data": {
      "image/png": "[encoded data removed]",
      "text/plain": [
       "<Figure size 1440x360 with 10 Axes>"
      ]
     },
     "metadata": {
      "needs_background": "light"
     },
     "output_type": "display_data"
    }
   ],
   "source": [
    "# Here The Data Set is loaded and plots are Visualised by Calling the Plotting Functions . \n",
    "import matplotlib.pyplot as plt\n",
    "from scipy.io import wavfile as wav\n",
    "from scipy.fftpack import fft\n",
    "import numpy as np\n",
    "for file in range(0 ,1, 1):\n",
    "    rate, data = wav.read(listOfFiles[file])\n",
    "    fft_out = fft(data)\n",
    "    %matplotlib inline\n",
    "    plt.plot(data, np.abs(fft_out))\n",
    "    plt.show()\n",
    "    \n",
    "signals={}\n",
    "fft={}\n",
    "fbank={}\n",
    "mfccs={}\n",
    "# load data\n",
    "for file in range(0 ,1, 1):\n",
    "#     rate, data = wavfile.read(listOfFiles[file])\n",
    "    signal,rate =librosa.load(listOfFiles[file] , sr=44100)\n",
    "    mask = envelope(signal , rate , 0.0005)\n",
    "    signals[file] = signal\n",
    "    fft[file] = calc_fft(signal , rate)\n",
    "    \n",
    "    bank = logfbank(signal[:rate] , rate , nfilt = 26, nfft = 1103).T\n",
    "    fbank[file] = bank\n",
    "    mel = mfcc(signal[:rate] , rate , numcep =13 , nfilt = 26 , nfft=1103).T\n",
    "    mfccs[file]=mel\n",
    "\n",
    "plot_signals(signals)\n",
    "plt.show()\n",
    "\n",
    "plot_fft(fft)\n",
    "plt.show()\n",
    "\n",
    "plot_fbank(fbank)\n",
    "plt.show()\n",
    "\n",
    "plot_mfccs(mfccs)\n",
    "plt.show()"
   ]
  },
  {
   "cell_type": "code",
   "execution_count": 8,
   "metadata": {},
   "outputs": [],
   "source": [
    "#Now Cleaning Step is Performed where:\n",
    "#DOWN SAMPLING OF AUDIO FILES IS DONE  AND PUT MASK OVER IT AND DIRECT INTO CLEAN FOLDER\n",
    "#MASK IS TO REMOVE UNNECESSARY EMPTY VOIVES AROUND THE MAIN AUDIO VOICE \n",
    "def envelope(y , rate, threshold):\n",
    "    mask=[]\n",
    "    y=pd.Series(y).apply(np.abs)\n",
    "    y_mean = y.rolling(window=int(rate/10) ,  min_periods=1 , center = True).mean()\n",
    "    for mean in y_mean:\n",
    "        if mean>threshold:\n",
    "            mask.append(True)\n",
    "        else:\n",
    "            mask.append(False)\n",
    "    return mask"
   ]
  },
  {
   "cell_type": "code",
   "execution_count": 23,
   "metadata": {},
   "outputs": [
    {
     "name": "stderr",
     "output_type": "stream",
     "text": [
      "100%|██████████████████████████████████████████████████████████████████████████████| 1439/1439 [00:28<00:00, 50.25it/s]\n"
     ]
    }
   ],
   "source": [
    "#The clean Audio Files are redirected to Clean Audio Folder Directory \n",
    "import glob,pickle\n",
    "for file in tqdm(glob.glob(r'C:\\Users\\bhagw\\fyp\\Speech_Emotion_Detection\\speech-emotion-recognition-ravdess-data\\\\**\\\\*.wav')):\n",
    "    file_name = os.path.basename(file)\n",
    "    signal , rate = librosa.load(file, sr=16000)\n",
    "    mask = envelope(signal,rate, 0.0005)\n",
    "    wavfile.write(filename= r'C:\\Users\\bhagw\\fyp\\Speech_Emotion_Detection\\clean_speech\\\\'+str(file_name), rate=rate,data=signal[mask])"
   ]
  },
  {
   "cell_type": "code",
   "execution_count": 9,
   "metadata": {},
   "outputs": [],
   "source": [
    "#Feature Extraction of Audio Files Function \n",
    "#Extract features (mfcc, chroma, mel) from a sound file\n",
    "def extract_feature(file_name, mfcc, chroma, mel):\n",
    "    with soundfile.SoundFile(file_name) as sound_file:\n",
    "        X = sound_file.read(dtype=\"float32\")\n",
    "        sample_rate=sound_file.samplerate\n",
    "        if chroma:\n",
    "            stft=np.abs(librosa.stft(X))\n",
    "        result=np.array([])\n",
    "        if mfcc:\n",
    "            mfccs=np.mean(librosa.feature.mfcc(y=X, sr=sample_rate, n_mfcc=40).T, axis=0)\n",
    "        result=np.hstack((result, mfccs))\n",
    "        if chroma:\n",
    "            chroma=np.mean(librosa.feature.chroma_stft(S=stft, sr=sample_rate).T,axis=0)\n",
    "        result=np.hstack((result, chroma))\n",
    "        if mel:\n",
    "            mel=np.mean(librosa.feature.melspectrogram(X, sr=sample_rate).T,axis=0)\n",
    "        result=np.hstack((result, mel))\n",
    "    return result"
   ]
  },
  {
   "cell_type": "code",
   "execution_count": 10,
   "metadata": {},
   "outputs": [],
   "source": [
    "#Emotions in the RAVDESS dataset to be classified Audio Files based on . \n",
    "emotions={\n",
    "  '01':'neutral',\n",
    "  '02':'calm',\n",
    "  '03':'happy',\n",
    "  '04':'sad',\n",
    "  '05':'angry',\n",
    "  '06':'fearful',\n",
    "  '07':'disgust',\n",
    "  '08':'surprised'\n",
    "}\n",
    "#These are the emotions User wants to observe more :\n",
    "observed_emotions=['calm', 'happy', 'fearful', 'disgust']"
   ]
  },
  {
   "cell_type": "code",
   "execution_count": 12,
   "metadata": {},
   "outputs": [],
   "source": [
    "#Load the data and extract features for each sound file\n",
    "from glob import glob\n",
    "import os\n",
    "import glob\n",
    "def load_data(test_size=0.33):\n",
    "    x,y=[],[]\n",
    "    answer = 0\n",
    "    for file in glob.glob(r'.\\clean_speech\\\\*.wav'):\n",
    "        file_name=os.path.basename(file)\n",
    "        emotion=emotions[file_name.split(\"-\")[2]]\n",
    "        if emotion not in observed_emotions:\n",
    "            answer += 1\n",
    "            continue\n",
    "        feature=extract_feature(file, mfcc=True, chroma=True, mel=True)\n",
    "        x.append(feature)\n",
    "        y.append([emotion,file_name])\n",
    "    y=np.array(y)\n",
    "    print(y.shape)\n",
    "    return train_test_split(np.array(x),y, test_size=0.2, random_state=9)"
   ]
  },
  {
   "cell_type": "code",
   "execution_count": 13,
   "metadata": {},
   "outputs": [
    {
     "name": "stdout",
     "output_type": "stream",
     "text": [
      "(768, 2)\n",
      "(614, 180) (154, 180) (614, 2) (154, 2)\n",
      "['fearful' 'happy' 'disgust' 'calm' 'disgust' 'fearful' 'disgust' 'calm'\n",
      " 'fearful' 'fearful' 'calm' 'fearful' 'fearful' 'fearful' 'fearful'\n",
      " 'happy' 'calm' 'disgust' 'happy' 'calm' 'calm' 'calm' 'happy' 'calm'\n",
      " 'calm' 'calm' 'happy' 'happy' 'fearful' 'happy' 'fearful' 'disgust'\n",
      " 'disgust' 'happy' 'fearful' 'disgust' 'fearful' 'disgust' 'disgust'\n",
      " 'fearful' 'disgust' 'calm' 'happy' 'fearful' 'fearful' 'calm' 'fearful'\n",
      " 'disgust' 'calm' 'calm' 'fearful' 'happy' 'happy' 'calm' 'disgust'\n",
      " 'disgust' 'happy' 'calm' 'happy' 'calm' 'calm' 'happy' 'disgust'\n",
      " 'fearful' 'calm' 'fearful' 'calm' 'happy' 'fearful' 'fearful' 'disgust'\n",
      " 'calm' 'calm' 'calm' 'disgust' 'calm' 'happy' 'disgust' 'happy' 'disgust'\n",
      " 'happy' 'happy' 'fearful' 'fearful' 'disgust' 'calm' 'fearful' 'disgust'\n",
      " 'disgust' 'fearful' 'calm' 'happy' 'happy' 'happy' 'calm' 'calm' 'happy'\n",
      " 'disgust' 'disgust' 'happy' 'disgust' 'disgust' 'calm' 'fearful' 'calm'\n",
      " 'disgust' 'calm' 'calm' 'calm' 'calm' 'fearful' 'disgust' 'happy' 'calm'\n",
      " 'disgust' 'calm' 'calm' 'calm' 'calm' 'happy' 'happy' 'happy' 'calm'\n",
      " 'calm' 'calm' 'calm' 'fearful' 'calm' 'disgust' 'fearful' 'fearful'\n",
      " 'happy' 'fearful' 'disgust' 'happy' 'disgust' 'disgust' 'calm' 'disgust'\n",
      " 'happy' 'happy' 'disgust' 'disgust' 'calm' 'fearful' 'happy' 'fearful'\n",
      " 'fearful' 'disgust' 'disgust' 'disgust' 'fearful' 'disgust' 'calm']\n",
      "(614,) (154,)\n",
      "03-01-06-01-02-02-01.wav\n",
      "03-01-03-01-02-01-21.wav\n",
      "03-01-07-01-02-02-04.wav\n",
      "03-01-02-02-01-02-24.wav\n",
      "03-01-07-01-02-02-19.wav\n",
      "03-01-06-01-01-01-07.wav\n",
      "03-01-07-01-01-01-16.wav\n",
      "03-01-02-01-02-02-06.wav\n",
      "03-01-06-01-01-02-07.wav\n",
      "03-01-06-02-01-01-15.wav\n",
      "03-01-02-02-02-02-07.wav\n",
      "03-01-06-01-02-02-19.wav\n",
      "03-01-06-02-02-02-05.wav\n",
      "03-01-06-01-01-01-14.wav\n",
      "03-01-06-01-02-01-15.wav\n",
      "03-01-03-02-02-01-06.wav\n",
      "03-01-02-01-01-02-16.wav\n",
      "03-01-07-01-01-01-13.wav\n",
      "03-01-03-02-02-02-24.wav\n",
      "03-01-02-01-02-02-19.wav\n",
      "03-01-02-02-01-02-09.wav\n",
      "03-01-02-01-01-02-07.wav\n",
      "03-01-03-01-02-01-13.wav\n",
      "03-01-02-01-02-01-18.wav\n",
      "03-01-02-02-02-02-03.wav\n",
      "03-01-02-02-01-01-11.wav\n",
      "03-01-03-01-02-02-20.wav\n",
      "03-01-03-02-01-02-06.wav\n",
      "03-01-06-01-01-02-11.wav\n",
      "03-01-03-01-02-01-18.wav\n",
      "03-01-06-01-01-01-15.wav\n",
      "03-01-07-02-01-02-08.wav\n",
      "03-01-07-02-01-02-23.wav\n",
      "03-01-03-01-02-02-10.wav\n",
      "03-01-06-01-01-01-23.wav\n",
      "03-01-07-02-02-01-18.wav\n",
      "03-01-06-02-02-01-22.wav\n",
      "03-01-07-02-01-01-21.wav\n",
      "03-01-07-01-01-02-10.wav\n",
      "03-01-06-02-01-01-01.wav\n",
      "03-01-07-02-01-02-17.wav\n",
      "03-01-02-02-02-02-17.wav\n",
      "03-01-03-01-01-01-04.wav\n",
      "03-01-06-02-02-01-24.wav\n",
      "03-01-06-02-02-01-10.wav\n",
      "03-01-02-02-01-02-12.wav\n",
      "03-01-06-02-01-02-01.wav\n",
      "03-01-07-01-01-01-10.wav\n",
      "03-01-02-02-01-01-02.wav\n",
      "03-01-02-01-01-02-24.wav\n",
      "03-01-06-02-02-02-14.wav\n",
      "03-01-03-02-02-02-14.wav\n",
      "03-01-03-01-01-01-20.wav\n",
      "03-01-02-02-02-01-05.wav\n",
      "03-01-07-01-01-02-17.wav\n",
      "03-01-07-02-01-01-20.wav\n",
      "03-01-03-02-02-02-20.wav\n",
      "03-01-02-01-01-02-17.wav\n",
      "03-01-03-01-01-02-13.wav\n",
      "03-01-02-01-01-02-14.wav\n",
      "03-01-02-02-02-01-16.wav\n",
      "03-01-03-02-01-02-10.wav\n",
      "03-01-07-02-01-02-03.wav\n",
      "03-01-06-01-02-01-19.wav\n",
      "03-01-02-02-02-02-22.wav\n",
      "03-01-06-02-01-02-11.wav\n",
      "03-01-02-01-01-01-04.wav\n",
      "03-01-03-02-02-01-14.wav\n",
      "03-01-06-01-01-02-02.wav\n",
      "03-01-06-01-01-02-17.wav\n",
      "03-01-07-02-02-01-04.wav\n",
      "03-01-02-01-02-01-07.wav\n",
      "03-01-02-01-02-02-16.wav\n",
      "03-01-02-02-01-01-21.wav\n",
      "03-01-07-02-02-02-15.wav\n",
      "03-01-02-01-02-01-13.wav\n",
      "03-01-03-01-01-01-22.wav\n",
      "03-01-07-02-01-01-10.wav\n",
      "03-01-03-01-02-01-20.wav\n",
      "03-01-07-01-02-02-15.wav\n",
      "03-01-03-01-02-02-17.wav\n",
      "03-01-03-01-02-01-17.wav\n",
      "03-01-06-02-01-01-10.wav\n",
      "03-01-06-02-02-01-17.wav\n",
      "03-01-07-02-02-02-20.wav\n",
      "03-01-02-01-02-02-09.wav\n",
      "03-01-06-01-01-02-15.wav\n",
      "03-01-07-02-01-02-20.wav\n",
      "03-01-07-01-01-02-06.wav\n",
      "03-01-06-02-02-02-11.wav\n",
      "03-01-02-01-02-01-15.wav\n",
      "03-01-03-02-02-02-17.wav\n",
      "03-01-03-01-01-01-01.wav\n",
      "03-01-03-02-01-01-21.wav\n",
      "03-01-02-01-02-02-18.wav\n",
      "03-01-02-02-02-02-14.wav\n",
      "03-01-03-01-01-01-03.wav\n",
      "03-01-07-02-02-01-17.wav\n",
      "03-01-07-02-01-02-13.wav\n",
      "03-01-03-01-02-02-18.wav\n",
      "03-01-07-01-02-01-05.wav\n",
      "03-01-07-02-02-01-10.wav\n",
      "03-01-02-01-01-02-04.wav\n",
      "03-01-06-02-01-01-19.wav\n",
      "03-01-02-02-02-01-09.wav\n",
      "03-01-07-02-02-01-24.wav\n",
      "03-01-02-01-02-02-20.wav\n",
      "03-01-02-01-01-01-11.wav\n",
      "03-01-02-02-02-02-11.wav\n",
      "03-01-02-01-01-02-22.wav\n",
      "03-01-06-01-02-02-03.wav\n",
      "03-01-07-02-01-02-12.wav\n",
      "03-01-03-02-01-01-02.wav\n",
      "03-01-02-02-02-02-09.wav\n",
      "03-01-07-02-02-02-11.wav\n",
      "03-01-02-02-01-02-11.wav\n",
      "03-01-02-02-01-02-13.wav\n",
      "03-01-02-01-01-02-21.wav\n",
      "03-01-02-01-02-01-23.wav\n",
      "03-01-03-02-01-01-24.wav\n",
      "03-01-03-02-01-01-01.wav\n",
      "03-01-03-02-01-02-18.wav\n",
      "03-01-02-01-02-01-21.wav\n",
      "03-01-02-01-01-02-18.wav\n",
      "03-01-02-01-02-01-08.wav\n",
      "03-01-02-02-01-01-04.wav\n",
      "03-01-06-02-02-02-17.wav\n",
      "03-01-02-01-01-01-17.wav\n",
      "03-01-07-01-02-01-20.wav\n",
      "03-01-06-01-02-01-18.wav\n",
      "03-01-06-02-02-01-08.wav\n",
      "03-01-03-01-01-02-18.wav\n",
      "03-01-06-01-02-02-07.wav\n",
      "03-01-07-01-02-02-18.wav\n",
      "03-01-03-01-02-01-16.wav\n",
      "03-01-07-01-01-02-23.wav\n",
      "03-01-07-01-01-01-20.wav\n",
      "03-01-02-01-01-01-07.wav\n",
      "03-01-07-02-02-01-16.wav\n",
      "03-01-03-02-01-02-05.wav\n",
      "03-01-03-02-01-02-11.wav\n",
      "03-01-07-01-02-01-04.wav\n",
      "03-01-07-02-01-02-04.wav\n",
      "03-01-02-02-01-02-05.wav\n",
      "03-01-06-01-02-02-06.wav\n",
      "03-01-03-02-02-01-08.wav\n",
      "03-01-06-02-02-02-09.wav\n",
      "03-01-06-02-02-02-21.wav\n",
      "03-01-07-01-01-02-20.wav\n",
      "03-01-07-01-01-01-08.wav\n",
      "03-01-07-01-01-01-11.wav\n",
      "03-01-06-01-02-02-23.wav\n",
      "03-01-07-01-02-02-08.wav\n",
      "03-01-02-01-01-02-09.wav\n"
     ]
    }
   ],
   "source": [
    "#Split the dataset\n",
    "import librosa\n",
    "import numpy as np\n",
    "import warnings\n",
    "warnings.filterwarnings('ignore')\n",
    "x_train,x_test,y_train,y_test=load_data(test_size=0.25)\n",
    "print(np.shape(x_train),np.shape(x_test), np.shape(y_train),np.shape(y_test))\n",
    "y_test_map = np.array(y_test).T\n",
    "y_test = y_test_map[0]\n",
    "test_filename = y_test_map[1]\n",
    "print(y_test_map[0])\n",
    "y_train_map = np.array(y_train).T\n",
    "y_train = y_train_map[0]\n",
    "train_filename = y_train_map[1]\n",
    "print(np.shape(y_train),np.shape(y_test))\n",
    "print(*test_filename,sep=\"\\n\")"
   ]
  },
  {
   "cell_type": "code",
   "execution_count": 14,
   "metadata": {},
   "outputs": [
    {
     "name": "stdout",
     "output_type": "stream",
     "text": [
      "(array([-3.71849243e+02,  1.03950974e+02, -1.03648453e+01,  2.67074356e+01,\n",
      "       -1.33307552e+01, -2.88272071e+00, -1.04351406e+01, -2.57317200e+01,\n",
      "       -1.02469435e+01, -9.71051025e+00, -1.88326950e+01, -4.04810143e+00,\n",
      "       -6.45146799e+00, -3.63719010e+00, -1.21084709e+01, -1.13278837e+01,\n",
      "       -4.40763712e+00, -6.89929295e+00, -1.19584866e+01, -5.74399757e+00,\n",
      "       -9.20265675e+00, -6.02034235e+00, -4.20255232e+00, -8.33188057e+00,\n",
      "       -4.72893572e+00, -1.83190978e+00, -2.18272066e+00, -5.80572557e+00,\n",
      "       -4.53551102e+00, -5.75401878e+00, -4.69171381e+00, -3.73407054e+00,\n",
      "       -3.58829319e-01, -4.58683300e+00, -6.25262737e+00, -3.86362648e+00,\n",
      "       -5.56051683e+00, -3.10220671e+00, -6.32378721e+00, -5.91910124e+00,\n",
      "        4.95410860e-01,  5.41045427e-01,  4.97207820e-01,  5.37204802e-01,\n",
      "        5.74013352e-01,  5.28429389e-01,  5.19611955e-01,  6.18835568e-01,\n",
      "        6.71098650e-01,  7.09589601e-01,  6.36909306e-01,  4.90902841e-01,\n",
      "        3.31863375e-05,  5.10345162e-05,  5.69653092e-03,  1.14907637e-01,\n",
      "        2.87609667e-01,  1.30644590e-01,  1.88053802e-01,  7.58977979e-02,\n",
      "        6.83383882e-01,  1.33174980e+00,  3.41050833e-01,  1.90483212e-01,\n",
      "        2.89686412e-01,  5.74651361e-01,  5.15503466e-01,  1.89674377e-01,\n",
      "        2.42090851e-01,  2.58701146e-01,  8.84114742e-01,  5.66439509e-01,\n",
      "        2.33511314e-01,  1.91129491e-01,  6.61829352e-01,  1.42323697e+00,\n",
      "        5.13457179e-01,  1.20700777e-01,  1.37545303e-01,  6.01887703e-01,\n",
      "        6.30166233e-01,  1.22608364e-01,  1.91821475e-02,  8.01912621e-02,\n",
      "        1.78334579e-01,  1.28516749e-01,  1.23124812e-02,  7.52057740e-03,\n",
      "        3.91548760e-02,  4.15312275e-02,  3.04410849e-02,  2.61122137e-02,\n",
      "        1.64743606e-02,  2.36233491e-02,  3.35639156e-02,  4.60839607e-02,\n",
      "        2.00167261e-02,  2.52568163e-02,  4.29486409e-02,  7.30949417e-02,\n",
      "        8.01994205e-02,  1.26728833e-01,  1.06519789e-01,  3.55722681e-02,\n",
      "        5.78573765e-03,  3.40451091e-03,  2.81405021e-02,  4.79924455e-02,\n",
      "        7.54248165e-03,  1.72490291e-02,  1.10204548e-01,  3.95053215e-02,\n",
      "        8.49535875e-03,  3.33565734e-02,  9.48143564e-03,  7.43584521e-03,\n",
      "        1.06180748e-02,  6.97329408e-03,  2.61433236e-03,  2.83237780e-03,\n",
      "        1.91827596e-03,  1.83936860e-03,  1.78137096e-03,  9.97434254e-04,\n",
      "        9.32389288e-04,  9.18764912e-04,  8.99556500e-04,  6.49971771e-04,\n",
      "        8.02909723e-04,  1.08039600e-03,  2.50901747e-03,  1.71062502e-03,\n",
      "        5.48482873e-03,  6.72620628e-03,  3.76462052e-03,  1.96870952e-03,\n",
      "        1.81469077e-03,  1.98062207e-03,  1.62305019e-03,  2.34018569e-03,\n",
      "        1.99237443e-03,  2.27998733e-03,  1.89108145e-03,  3.32413451e-03,\n",
      "        3.09985201e-03,  2.61937105e-03,  3.68370046e-03,  4.08778526e-03,\n",
      "        3.38206743e-03,  3.01422412e-03,  2.71469424e-03,  2.36321427e-03,\n",
      "        2.31777248e-03,  2.23411527e-03,  4.41909581e-03,  3.53763206e-03,\n",
      "        6.18768809e-03,  4.61436994e-03,  4.81656846e-03,  8.52142926e-03,\n",
      "        6.49613747e-03,  7.43402448e-03,  5.63297793e-03,  2.87627405e-03,\n",
      "        3.71771562e-03,  3.24692368e-03,  3.05221952e-03,  4.51699179e-03,\n",
      "        4.90661385e-03,  4.34851600e-03,  2.95638805e-03,  2.37114681e-03,\n",
      "        1.98885403e-03,  2.26756884e-03,  1.98541745e-03,  1.06154720e-03,\n",
      "        8.60804808e-04,  8.80910666e-04,  5.30640536e-04,  3.20147898e-04]), array([-4.05671173e+02,  8.42834015e+01, -1.11281261e+01,  2.90020447e+01,\n",
      "       -2.81507373e+00, -4.33904505e+00, -1.89678402e+01, -2.52570515e+01,\n",
      "       -1.23158312e+01, -4.30857182e+00, -6.50502825e+00, -2.54451227e+00,\n",
      "       -1.21684942e+01,  8.51113617e-01, -7.04364157e+00, -8.51612759e+00,\n",
      "       -8.13139629e+00,  4.25834417e+00, -1.48411970e+01, -3.23721051e+00,\n",
      "       -6.37524128e+00, -9.33906651e+00, -3.15862298e+00, -9.05205059e+00,\n",
      "       -7.46986914e+00, -4.45241928e+00, -6.52585888e+00, -3.14193988e+00,\n",
      "       -4.78534555e+00, -6.50295782e+00, -7.52874613e+00, -7.58765459e+00,\n",
      "       -3.94861937e+00, -3.39044237e+00, -8.20686817e+00, -6.27286005e+00,\n",
      "       -9.65440941e+00, -2.89562154e+00, -3.41935420e+00, -3.42523527e+00,\n",
      "        7.13766575e-01,  6.45344794e-01,  6.18056774e-01,  6.05290294e-01,\n",
      "        5.40595174e-01,  4.96783942e-01,  5.77651203e-01,  6.85749650e-01,\n",
      "        5.94751298e-01,  5.19225419e-01,  5.39753258e-01,  6.47847593e-01,\n",
      "        1.41149590e-04,  1.12745111e-04,  5.15733205e-04,  1.14527764e-02,\n",
      "        2.81826824e-01,  3.12083572e-01,  4.46806774e-02,  2.87839724e-03,\n",
      "        8.55145510e-03,  1.08940408e-01,  4.55049753e-01,  1.34458035e-01,\n",
      "        7.94000253e-02,  1.96316373e-02,  5.16389012e-02,  2.71762669e-01,\n",
      "        2.29782000e-01,  8.98901001e-02,  1.33364707e-01,  1.56146139e-01,\n",
      "        2.71295428e-01,  2.54674047e-01,  4.27817032e-02,  5.69649506e-03,\n",
      "        2.94608586e-02,  1.18042827e-01,  1.09903894e-01,  3.69279459e-02,\n",
      "        3.85365658e-03,  5.18457731e-03,  6.05221046e-03,  7.97526632e-03,\n",
      "        8.28912947e-03,  2.17807433e-03,  7.12939247e-04,  7.64107856e-04,\n",
      "        2.19866028e-03,  1.85010745e-03,  2.02979567e-03,  1.70703058e-03,\n",
      "        3.79167567e-03,  4.65032458e-03,  2.38122023e-03,  2.00230372e-03,\n",
      "        3.17375571e-03,  3.35024507e-03,  1.44133465e-02,  2.96142120e-02,\n",
      "        2.89161447e-02,  1.03745805e-02,  4.38967487e-03,  2.94772559e-03,\n",
      "        3.01388279e-03,  8.14521033e-03,  1.32389236e-02,  1.04207601e-02,\n",
      "        4.91284160e-03,  4.18978697e-03,  5.72645292e-03,  1.03127044e-02,\n",
      "        7.59145711e-03,  4.11030417e-03,  6.47332426e-03,  1.49201239e-02,\n",
      "        3.87860066e-03,  1.14668289e-03,  1.25715451e-03,  8.78728461e-04,\n",
      "        7.84194213e-04,  1.07633625e-03,  8.71086493e-04,  6.08769886e-04,\n",
      "        9.39614547e-04,  1.09722081e-03,  2.13993317e-03,  3.31161940e-03,\n",
      "        3.37559148e-03,  2.47412594e-03,  2.10877135e-03,  1.85668364e-03,\n",
      "        1.01281411e-03,  1.20839931e-03,  5.05978300e-04,  2.74988764e-04,\n",
      "        2.91618082e-04,  2.45856238e-04,  2.82829220e-04,  3.85570602e-04,\n",
      "        5.28479577e-04,  1.21488050e-03,  1.93554780e-03,  2.70800246e-03,\n",
      "        3.01809818e-03,  1.51663402e-03,  1.43420056e-03,  1.66739372e-03,\n",
      "        8.84263776e-04,  4.39294847e-04,  1.68911341e-04,  1.86671852e-04,\n",
      "        6.13401004e-04,  5.82583423e-04,  8.44180642e-04,  8.81288375e-04,\n",
      "        1.16914499e-03,  1.69588008e-03,  1.37110136e-03,  1.97794591e-03,\n",
      "        1.36979786e-03,  1.02311897e-03,  7.40649470e-04,  4.84865770e-04,\n",
      "        5.40358480e-04,  4.51055501e-04,  4.59889823e-04,  4.31714201e-04,\n",
      "        3.21626023e-04,  2.61131820e-04,  1.54013062e-04,  1.24628292e-04,\n",
      "        1.20931429e-04,  1.21176112e-04,  8.49444550e-05,  7.63782664e-05,\n",
      "        1.57862087e-04,  1.84674020e-04,  1.15834977e-04,  6.19591956e-05]))\n",
      "Features extracted: 180\n"
     ]
    }
   ],
   "source": [
    "#Get the shape of the training and testing datasets\n",
    "# print((x_train.shape[0], x_test.shape[0]))\n",
    "print((x_train[0], x_test[0]))\n",
    "#Get the number of features extracted\n",
    "print(f'Features extracted: {x_train.shape[1]}')"
   ]
  },
  {
   "cell_type": "code",
   "execution_count": 15,
   "metadata": {},
   "outputs": [],
   "source": [
    "from sklearn.neural_network import MLPClassifier\n",
    "# Initialize the Multi Layer Perceptron Classifier\n",
    "model=MLPClassifier(alpha=0.01, batch_size=256, epsilon=1e-08, hidden_layer_sizes=(300,), learning_rate='adaptive', max_iter=500)"
   ]
  },
  {
   "cell_type": "code",
   "execution_count": 16,
   "metadata": {},
   "outputs": [
    {
     "data": {
      "text/plain": [
       "MLPClassifier(alpha=0.01, batch_size=256, hidden_layer_sizes=(300,),\n",
       "              learning_rate='adaptive', max_iter=500)"
      ]
     },
     "execution_count": 16,
     "metadata": {},
     "output_type": "execute_result"
    }
   ],
   "source": [
    "#Train the model\n",
    "model.fit(x_train,y_train)"
   ]
  },
  {
   "cell_type": "code",
   "execution_count": 17,
   "metadata": {},
   "outputs": [],
   "source": [
    "\n",
    "#SAVING THE MODEL\n",
    "import pickle\n",
    "# Save the Modle to file in the current working directory\n",
    "#For any new testing data other than the data in dataset\n",
    "\n",
    "Pkl_Filename = \"Emotion_Voice_Detection_Model.pkl\"  \n",
    "\n",
    "with open(Pkl_Filename, 'wb') as file:  \n",
    "    pickle.dump(model, file)"
   ]
  },
  {
   "cell_type": "code",
   "execution_count": 18,
   "metadata": {},
   "outputs": [
    {
     "data": {
      "text/plain": [
       "MLPClassifier(alpha=0.01, batch_size=256, hidden_layer_sizes=(300,),\n",
       "              learning_rate='adaptive', max_iter=500)"
      ]
     },
     "execution_count": 18,
     "metadata": {},
     "output_type": "execute_result"
    }
   ],
   "source": [
    "# Load the Model back from file\n",
    "with open(Pkl_Filename, 'rb') as file:  \n",
    "    Emotion_Voice_Detection_Model = pickle.load(file)\n",
    "\n",
    "Emotion_Voice_Detection_Model"
   ]
  },
  {
   "cell_type": "code",
   "execution_count": 19,
   "metadata": {},
   "outputs": [
    {
     "data": {
      "text/plain": [
       "array(['disgust', 'happy', 'fearful', 'calm', 'disgust', 'calm',\n",
       "       'disgust', 'calm', 'fearful', 'fearful', 'calm', 'fearful',\n",
       "       'happy', 'fearful', 'fearful', 'happy', 'disgust', 'calm',\n",
       "       'fearful', 'calm', 'calm', 'calm', 'happy', 'calm', 'calm', 'calm',\n",
       "       'fearful', 'happy', 'disgust', 'calm', 'calm', 'calm', 'disgust',\n",
       "       'happy', 'fearful', 'disgust', 'fearful', 'disgust', 'happy',\n",
       "       'fearful', 'disgust', 'calm', 'happy', 'fearful', 'fearful',\n",
       "       'calm', 'fearful', 'calm', 'calm', 'calm', 'disgust', 'happy',\n",
       "       'happy', 'calm', 'disgust', 'disgust', 'disgust', 'calm', 'happy',\n",
       "       'calm', 'calm', 'happy', 'disgust', 'fearful', 'calm', 'happy',\n",
       "       'disgust', 'happy', 'fearful', 'fearful', 'fearful', 'calm',\n",
       "       'calm', 'calm', 'fearful', 'calm', 'calm', 'happy', 'calm',\n",
       "       'fearful', 'fearful', 'happy', 'fearful', 'fearful', 'disgust',\n",
       "       'fearful', 'disgust', 'fearful', 'calm', 'fearful', 'calm',\n",
       "       'fearful', 'happy', 'happy', 'calm', 'calm', 'fearful', 'disgust',\n",
       "       'disgust', 'happy', 'calm', 'fearful', 'calm', 'fearful', 'calm',\n",
       "       'disgust', 'calm', 'calm', 'calm', 'calm', 'fearful', 'happy',\n",
       "       'happy', 'calm', 'disgust', 'calm', 'calm', 'calm', 'calm',\n",
       "       'happy', 'happy', 'fearful', 'calm', 'calm', 'calm', 'calm',\n",
       "       'fearful', 'calm', 'calm', 'fearful', 'fearful', 'happy',\n",
       "       'fearful', 'disgust', 'happy', 'calm', 'disgust', 'happy',\n",
       "       'disgust', 'happy', 'disgust', 'fearful', 'disgust', 'calm',\n",
       "       'fearful', 'happy', 'fearful', 'fearful', 'calm', 'calm',\n",
       "       'disgust', 'fearful', 'calm', 'fearful'], dtype='<U7')"
      ]
     },
     "execution_count": 19,
     "metadata": {},
     "output_type": "execute_result"
    }
   ],
   "source": [
    "#predicting :\n",
    "y_pred=Emotion_Voice_Detection_Model.predict(x_test)\n",
    "y_pred"
   ]
  },
  {
   "cell_type": "code",
   "execution_count": 20,
   "metadata": {},
   "outputs": [
    {
     "name": "stdout",
     "output_type": "stream",
     "text": [
      "    predictions                file_names     true\n",
      "0       disgust  03-01-06-01-02-02-01.wav  disgust\n",
      "1         happy  03-01-03-01-02-01-21.wav    happy\n",
      "2       fearful  03-01-07-01-02-02-04.wav  fearful\n",
      "3          calm  03-01-02-02-01-02-24.wav     calm\n",
      "4       disgust  03-01-07-01-02-02-19.wav  disgust\n",
      "..          ...                       ...      ...\n",
      "149        calm  03-01-07-01-01-01-08.wav     calm\n",
      "150     disgust  03-01-07-01-01-01-11.wav  disgust\n",
      "151     fearful  03-01-06-01-02-02-23.wav  fearful\n",
      "152        calm  03-01-07-01-02-02-08.wav     calm\n",
      "153     fearful  03-01-02-01-01-02-09.wav  fearful\n",
      "\n",
      "[154 rows x 3 columns]\n",
      "Accuracy: \n"
     ]
    }
   ],
   "source": [
    "#Store the Prediction probabilities into CSV file \n",
    "import numpy as np\n",
    "import pandas as pd\n",
    "y_pred1 = pd.DataFrame(y_pred, columns=['predictions'])\n",
    "y_pred1['file_names'] = test_filename\n",
    "y_pred1['true'] = y_pred1[\"predictions\"]\n",
    "print(y_pred1)\n",
    "y_pred1.to_csv('predictionfinal.csv')\n",
    "print(\"Accuracy: \")"
   ]
  },
  {
   "cell_type": "code",
   "execution_count": 21,
   "metadata": {},
   "outputs": [
    {
     "ename": "ModuleNotFoundError",
     "evalue": "No module named 'pyaudio'",
     "output_type": "error",
     "traceback": [
      "\u001b[1;31m---------------------------------------------------------------------------\u001b[0m",
      "\u001b[1;31mModuleNotFoundError\u001b[0m                       Traceback (most recent call last)",
      "\u001b[1;32m~\\AppData\\Local\\Temp/ipykernel_6316/2562977747.py\u001b[0m in \u001b[0;36m<module>\u001b[1;34m\u001b[0m\n\u001b[0;32m      1\u001b[0m \u001b[1;31m#RECORDED USING MICROPHONE:\u001b[0m\u001b[1;33m\u001b[0m\u001b[1;33m\u001b[0m\u001b[0m\n\u001b[1;32m----> 2\u001b[1;33m \u001b[1;32mimport\u001b[0m \u001b[0mpyaudio\u001b[0m\u001b[1;33m\u001b[0m\u001b[1;33m\u001b[0m\u001b[0m\n\u001b[0m\u001b[0;32m      3\u001b[0m \u001b[1;32mimport\u001b[0m \u001b[0mwave\u001b[0m\u001b[1;33m\u001b[0m\u001b[1;33m\u001b[0m\u001b[0m\n\u001b[0;32m      4\u001b[0m \u001b[1;33m\u001b[0m\u001b[0m\n\u001b[0;32m      5\u001b[0m \u001b[0mCHUNK\u001b[0m \u001b[1;33m=\u001b[0m \u001b[1;36m1024\u001b[0m\u001b[1;33m\u001b[0m\u001b[1;33m\u001b[0m\u001b[0m\n",
      "\u001b[1;31mModuleNotFoundError\u001b[0m: No module named 'pyaudio'"
     ]
    }
   ],
   "source": [
    "#RECORDED USING MICROPHONE:\n",
    "import pyaudio\n",
    "import wave\n",
    "\n",
    "CHUNK = 1024 \n",
    "FORMAT = pyaudio.paInt16 #paInt8\n",
    "CHANNELS = 2 \n",
    "RATE = 44100 #sample rate\n",
    "RECORD_SECONDS = 4\n",
    "WAVE_OUTPUT_FILENAME = \"output10.wav\"\n",
    "\n",
    "p = pyaudio.PyAudio()\n",
    "\n",
    "stream = p.open(format=FORMAT,\n",
    "                channels=CHANNELS,\n",
    "                rate=RATE,\n",
    "                input=True,\n",
    "                frames_per_buffer=CHUNK) #buffer\n",
    "\n",
    "print(\"* recording\")\n",
    "frames = []\n",
    "\n",
    "for i in range(0, int(RATE / CHUNK * RECORD_SECONDS)):\n",
    "    data = stream.read(CHUNK)\n",
    "    frames.append(data) # 2 bytes(16 bits) per channel\n",
    "\n",
    "print(\"* done recording\")\n",
    "\n",
    "stream.stop_stream()\n",
    "stream.close()\n",
    "p.terminate()\n",
    "\n",
    "wf = wave.open(WAVE_OUTPUT_FILENAME, 'wb')\n",
    "wf.setnchannels(CHANNELS)\n",
    "wf.setsampwidth(p.get_sample_size(FORMAT))\n",
    "wf.setframerate(RATE)\n",
    "wf.writeframes(b''.join(frames))\n",
    "wf.close()"
   ]
  },
  {
   "cell_type": "code",
   "execution_count": 22,
   "metadata": {},
   "outputs": [
    {
     "ename": "FileNotFoundError",
     "evalue": "[Errno 2] No such file or directory: 'output10.wav'",
     "output_type": "error",
     "traceback": [
      "\u001b[1;31m---------------------------------------------------------------------------\u001b[0m",
      "\u001b[1;31mRuntimeError\u001b[0m                              Traceback (most recent call last)",
      "\u001b[1;32m~\\anaconda3\\lib\\site-packages\\librosa\\core\\audio.py\u001b[0m in \u001b[0;36mload\u001b[1;34m(path, sr, mono, offset, duration, dtype, res_type)\u001b[0m\n\u001b[0;32m    154\u001b[0m             \u001b[1;31m# Otherwise, create the soundfile object\u001b[0m\u001b[1;33m\u001b[0m\u001b[1;33m\u001b[0m\u001b[0m\n\u001b[1;32m--> 155\u001b[1;33m             \u001b[0mcontext\u001b[0m \u001b[1;33m=\u001b[0m \u001b[0msf\u001b[0m\u001b[1;33m.\u001b[0m\u001b[0mSoundFile\u001b[0m\u001b[1;33m(\u001b[0m\u001b[0mpath\u001b[0m\u001b[1;33m)\u001b[0m\u001b[1;33m\u001b[0m\u001b[1;33m\u001b[0m\u001b[0m\n\u001b[0m\u001b[0;32m    156\u001b[0m \u001b[1;33m\u001b[0m\u001b[0m\n",
      "\u001b[1;32m~\\anaconda3\\lib\\site-packages\\soundfile.py\u001b[0m in \u001b[0;36m__init__\u001b[1;34m(self, file, mode, samplerate, channels, subtype, endian, format, closefd)\u001b[0m\n\u001b[0;32m    628\u001b[0m                                          format, subtype, endian)\n\u001b[1;32m--> 629\u001b[1;33m         \u001b[0mself\u001b[0m\u001b[1;33m.\u001b[0m\u001b[0m_file\u001b[0m \u001b[1;33m=\u001b[0m \u001b[0mself\u001b[0m\u001b[1;33m.\u001b[0m\u001b[0m_open\u001b[0m\u001b[1;33m(\u001b[0m\u001b[0mfile\u001b[0m\u001b[1;33m,\u001b[0m \u001b[0mmode_int\u001b[0m\u001b[1;33m,\u001b[0m \u001b[0mclosefd\u001b[0m\u001b[1;33m)\u001b[0m\u001b[1;33m\u001b[0m\u001b[1;33m\u001b[0m\u001b[0m\n\u001b[0m\u001b[0;32m    630\u001b[0m         \u001b[1;32mif\u001b[0m \u001b[0mset\u001b[0m\u001b[1;33m(\u001b[0m\u001b[0mmode\u001b[0m\u001b[1;33m)\u001b[0m\u001b[1;33m.\u001b[0m\u001b[0missuperset\u001b[0m\u001b[1;33m(\u001b[0m\u001b[1;34m'r+'\u001b[0m\u001b[1;33m)\u001b[0m \u001b[1;32mand\u001b[0m \u001b[0mself\u001b[0m\u001b[1;33m.\u001b[0m\u001b[0mseekable\u001b[0m\u001b[1;33m(\u001b[0m\u001b[1;33m)\u001b[0m\u001b[1;33m:\u001b[0m\u001b[1;33m\u001b[0m\u001b[1;33m\u001b[0m\u001b[0m\n",
      "\u001b[1;32m~\\anaconda3\\lib\\site-packages\\soundfile.py\u001b[0m in \u001b[0;36m_open\u001b[1;34m(self, file, mode_int, closefd)\u001b[0m\n\u001b[0;32m   1182\u001b[0m             \u001b[1;32mraise\u001b[0m \u001b[0mTypeError\u001b[0m\u001b[1;33m(\u001b[0m\u001b[1;34m\"Invalid file: {0!r}\"\u001b[0m\u001b[1;33m.\u001b[0m\u001b[0mformat\u001b[0m\u001b[1;33m(\u001b[0m\u001b[0mself\u001b[0m\u001b[1;33m.\u001b[0m\u001b[0mname\u001b[0m\u001b[1;33m)\u001b[0m\u001b[1;33m)\u001b[0m\u001b[1;33m\u001b[0m\u001b[1;33m\u001b[0m\u001b[0m\n\u001b[1;32m-> 1183\u001b[1;33m         _error_check(_snd.sf_error(file_ptr),\n\u001b[0m\u001b[0;32m   1184\u001b[0m                      \"Error opening {0!r}: \".format(self.name))\n",
      "\u001b[1;32m~\\anaconda3\\lib\\site-packages\\soundfile.py\u001b[0m in \u001b[0;36m_error_check\u001b[1;34m(err, prefix)\u001b[0m\n\u001b[0;32m   1356\u001b[0m         \u001b[0merr_str\u001b[0m \u001b[1;33m=\u001b[0m \u001b[0m_snd\u001b[0m\u001b[1;33m.\u001b[0m\u001b[0msf_error_number\u001b[0m\u001b[1;33m(\u001b[0m\u001b[0merr\u001b[0m\u001b[1;33m)\u001b[0m\u001b[1;33m\u001b[0m\u001b[1;33m\u001b[0m\u001b[0m\n\u001b[1;32m-> 1357\u001b[1;33m         \u001b[1;32mraise\u001b[0m \u001b[0mRuntimeError\u001b[0m\u001b[1;33m(\u001b[0m\u001b[0mprefix\u001b[0m \u001b[1;33m+\u001b[0m \u001b[0m_ffi\u001b[0m\u001b[1;33m.\u001b[0m\u001b[0mstring\u001b[0m\u001b[1;33m(\u001b[0m\u001b[0merr_str\u001b[0m\u001b[1;33m)\u001b[0m\u001b[1;33m.\u001b[0m\u001b[0mdecode\u001b[0m\u001b[1;33m(\u001b[0m\u001b[1;34m'utf-8'\u001b[0m\u001b[1;33m,\u001b[0m \u001b[1;34m'replace'\u001b[0m\u001b[1;33m)\u001b[0m\u001b[1;33m)\u001b[0m\u001b[1;33m\u001b[0m\u001b[1;33m\u001b[0m\u001b[0m\n\u001b[0m\u001b[0;32m   1358\u001b[0m \u001b[1;33m\u001b[0m\u001b[0m\n",
      "\u001b[1;31mRuntimeError\u001b[0m: Error opening 'output10.wav': System error.",
      "\nDuring handling of the above exception, another exception occurred:\n",
      "\u001b[1;31mFileNotFoundError\u001b[0m                         Traceback (most recent call last)",
      "\u001b[1;32m~\\AppData\\Local\\Temp/ipykernel_6316/680818544.py\u001b[0m in \u001b[0;36m<module>\u001b[1;34m\u001b[0m\n\u001b[0;32m      1\u001b[0m \u001b[1;31m#The file 'output10.wav' in the next cell is the file that was recorded live using the code :\u001b[0m\u001b[1;33m\u001b[0m\u001b[1;33m\u001b[0m\u001b[0m\n\u001b[1;32m----> 2\u001b[1;33m \u001b[0mdata\u001b[0m\u001b[1;33m,\u001b[0m \u001b[0msampling_rate\u001b[0m \u001b[1;33m=\u001b[0m \u001b[0mlibrosa\u001b[0m\u001b[1;33m.\u001b[0m\u001b[0mload\u001b[0m\u001b[1;33m(\u001b[0m\u001b[1;34m'output10.wav'\u001b[0m\u001b[1;33m)\u001b[0m\u001b[1;33m\u001b[0m\u001b[1;33m\u001b[0m\u001b[0m\n\u001b[0m\u001b[0;32m      3\u001b[0m \u001b[0mget_ipython\u001b[0m\u001b[1;33m(\u001b[0m\u001b[1;33m)\u001b[0m\u001b[1;33m.\u001b[0m\u001b[0mrun_line_magic\u001b[0m\u001b[1;33m(\u001b[0m\u001b[1;34m'matplotlib'\u001b[0m\u001b[1;33m,\u001b[0m \u001b[1;34m'inline'\u001b[0m\u001b[1;33m)\u001b[0m\u001b[1;33m\u001b[0m\u001b[1;33m\u001b[0m\u001b[0m\n\u001b[0;32m      4\u001b[0m \u001b[1;32mimport\u001b[0m \u001b[0mos\u001b[0m\u001b[1;33m\u001b[0m\u001b[1;33m\u001b[0m\u001b[0m\n\u001b[0;32m      5\u001b[0m \u001b[1;32mimport\u001b[0m \u001b[0mpandas\u001b[0m \u001b[1;32mas\u001b[0m \u001b[0mpd\u001b[0m\u001b[1;33m\u001b[0m\u001b[1;33m\u001b[0m\u001b[0m\n",
      "\u001b[1;32m~\\anaconda3\\lib\\site-packages\\librosa\\util\\decorators.py\u001b[0m in \u001b[0;36minner_f\u001b[1;34m(*args, **kwargs)\u001b[0m\n\u001b[0;32m     86\u001b[0m             \u001b[0mextra_args\u001b[0m \u001b[1;33m=\u001b[0m \u001b[0mlen\u001b[0m\u001b[1;33m(\u001b[0m\u001b[0margs\u001b[0m\u001b[1;33m)\u001b[0m \u001b[1;33m-\u001b[0m \u001b[0mlen\u001b[0m\u001b[1;33m(\u001b[0m\u001b[0mall_args\u001b[0m\u001b[1;33m)\u001b[0m\u001b[1;33m\u001b[0m\u001b[1;33m\u001b[0m\u001b[0m\n\u001b[0;32m     87\u001b[0m             \u001b[1;32mif\u001b[0m \u001b[0mextra_args\u001b[0m \u001b[1;33m<=\u001b[0m \u001b[1;36m0\u001b[0m\u001b[1;33m:\u001b[0m\u001b[1;33m\u001b[0m\u001b[1;33m\u001b[0m\u001b[0m\n\u001b[1;32m---> 88\u001b[1;33m                 \u001b[1;32mreturn\u001b[0m \u001b[0mf\u001b[0m\u001b[1;33m(\u001b[0m\u001b[1;33m*\u001b[0m\u001b[0margs\u001b[0m\u001b[1;33m,\u001b[0m \u001b[1;33m**\u001b[0m\u001b[0mkwargs\u001b[0m\u001b[1;33m)\u001b[0m\u001b[1;33m\u001b[0m\u001b[1;33m\u001b[0m\u001b[0m\n\u001b[0m\u001b[0;32m     89\u001b[0m \u001b[1;33m\u001b[0m\u001b[0m\n\u001b[0;32m     90\u001b[0m             \u001b[1;31m# extra_args > 0\u001b[0m\u001b[1;33m\u001b[0m\u001b[1;33m\u001b[0m\u001b[0m\n",
      "\u001b[1;32m~\\anaconda3\\lib\\site-packages\\librosa\\core\\audio.py\u001b[0m in \u001b[0;36mload\u001b[1;34m(path, sr, mono, offset, duration, dtype, res_type)\u001b[0m\n\u001b[0;32m    172\u001b[0m         \u001b[1;32mif\u001b[0m \u001b[0misinstance\u001b[0m\u001b[1;33m(\u001b[0m\u001b[0mpath\u001b[0m\u001b[1;33m,\u001b[0m \u001b[1;33m(\u001b[0m\u001b[0mstr\u001b[0m\u001b[1;33m,\u001b[0m \u001b[0mpathlib\u001b[0m\u001b[1;33m.\u001b[0m\u001b[0mPurePath\u001b[0m\u001b[1;33m)\u001b[0m\u001b[1;33m)\u001b[0m\u001b[1;33m:\u001b[0m\u001b[1;33m\u001b[0m\u001b[1;33m\u001b[0m\u001b[0m\n\u001b[0;32m    173\u001b[0m             \u001b[0mwarnings\u001b[0m\u001b[1;33m.\u001b[0m\u001b[0mwarn\u001b[0m\u001b[1;33m(\u001b[0m\u001b[1;34m\"PySoundFile failed. Trying audioread instead.\"\u001b[0m\u001b[1;33m,\u001b[0m \u001b[0mstacklevel\u001b[0m\u001b[1;33m=\u001b[0m\u001b[1;36m2\u001b[0m\u001b[1;33m)\u001b[0m\u001b[1;33m\u001b[0m\u001b[1;33m\u001b[0m\u001b[0m\n\u001b[1;32m--> 174\u001b[1;33m             \u001b[0my\u001b[0m\u001b[1;33m,\u001b[0m \u001b[0msr_native\u001b[0m \u001b[1;33m=\u001b[0m \u001b[0m__audioread_load\u001b[0m\u001b[1;33m(\u001b[0m\u001b[0mpath\u001b[0m\u001b[1;33m,\u001b[0m \u001b[0moffset\u001b[0m\u001b[1;33m,\u001b[0m \u001b[0mduration\u001b[0m\u001b[1;33m,\u001b[0m \u001b[0mdtype\u001b[0m\u001b[1;33m)\u001b[0m\u001b[1;33m\u001b[0m\u001b[1;33m\u001b[0m\u001b[0m\n\u001b[0m\u001b[0;32m    175\u001b[0m         \u001b[1;32melse\u001b[0m\u001b[1;33m:\u001b[0m\u001b[1;33m\u001b[0m\u001b[1;33m\u001b[0m\u001b[0m\n\u001b[0;32m    176\u001b[0m             \u001b[1;32mraise\u001b[0m \u001b[1;33m(\u001b[0m\u001b[0mexc\u001b[0m\u001b[1;33m)\u001b[0m\u001b[1;33m\u001b[0m\u001b[1;33m\u001b[0m\u001b[0m\n",
      "\u001b[1;32m~\\anaconda3\\lib\\site-packages\\librosa\\core\\audio.py\u001b[0m in \u001b[0;36m__audioread_load\u001b[1;34m(path, offset, duration, dtype)\u001b[0m\n\u001b[0;32m    196\u001b[0m \u001b[1;33m\u001b[0m\u001b[0m\n\u001b[0;32m    197\u001b[0m     \u001b[0my\u001b[0m \u001b[1;33m=\u001b[0m \u001b[1;33m[\u001b[0m\u001b[1;33m]\u001b[0m\u001b[1;33m\u001b[0m\u001b[1;33m\u001b[0m\u001b[0m\n\u001b[1;32m--> 198\u001b[1;33m     \u001b[1;32mwith\u001b[0m \u001b[0maudioread\u001b[0m\u001b[1;33m.\u001b[0m\u001b[0maudio_open\u001b[0m\u001b[1;33m(\u001b[0m\u001b[0mpath\u001b[0m\u001b[1;33m)\u001b[0m \u001b[1;32mas\u001b[0m \u001b[0minput_file\u001b[0m\u001b[1;33m:\u001b[0m\u001b[1;33m\u001b[0m\u001b[1;33m\u001b[0m\u001b[0m\n\u001b[0m\u001b[0;32m    199\u001b[0m         \u001b[0msr_native\u001b[0m \u001b[1;33m=\u001b[0m \u001b[0minput_file\u001b[0m\u001b[1;33m.\u001b[0m\u001b[0msamplerate\u001b[0m\u001b[1;33m\u001b[0m\u001b[1;33m\u001b[0m\u001b[0m\n\u001b[0;32m    200\u001b[0m         \u001b[0mn_channels\u001b[0m \u001b[1;33m=\u001b[0m \u001b[0minput_file\u001b[0m\u001b[1;33m.\u001b[0m\u001b[0mchannels\u001b[0m\u001b[1;33m\u001b[0m\u001b[1;33m\u001b[0m\u001b[0m\n",
      "\u001b[1;32m~\\anaconda3\\lib\\site-packages\\audioread\\__init__.py\u001b[0m in \u001b[0;36maudio_open\u001b[1;34m(path, backends)\u001b[0m\n\u001b[0;32m    109\u001b[0m     \u001b[1;32mfor\u001b[0m \u001b[0mBackendClass\u001b[0m \u001b[1;32min\u001b[0m \u001b[0mbackends\u001b[0m\u001b[1;33m:\u001b[0m\u001b[1;33m\u001b[0m\u001b[1;33m\u001b[0m\u001b[0m\n\u001b[0;32m    110\u001b[0m         \u001b[1;32mtry\u001b[0m\u001b[1;33m:\u001b[0m\u001b[1;33m\u001b[0m\u001b[1;33m\u001b[0m\u001b[0m\n\u001b[1;32m--> 111\u001b[1;33m             \u001b[1;32mreturn\u001b[0m \u001b[0mBackendClass\u001b[0m\u001b[1;33m(\u001b[0m\u001b[0mpath\u001b[0m\u001b[1;33m)\u001b[0m\u001b[1;33m\u001b[0m\u001b[1;33m\u001b[0m\u001b[0m\n\u001b[0m\u001b[0;32m    112\u001b[0m         \u001b[1;32mexcept\u001b[0m \u001b[0mDecodeError\u001b[0m\u001b[1;33m:\u001b[0m\u001b[1;33m\u001b[0m\u001b[1;33m\u001b[0m\u001b[0m\n\u001b[0;32m    113\u001b[0m             \u001b[1;32mpass\u001b[0m\u001b[1;33m\u001b[0m\u001b[1;33m\u001b[0m\u001b[0m\n",
      "\u001b[1;32m~\\anaconda3\\lib\\site-packages\\audioread\\rawread.py\u001b[0m in \u001b[0;36m__init__\u001b[1;34m(self, filename)\u001b[0m\n\u001b[0;32m     60\u001b[0m     \"\"\"\n\u001b[0;32m     61\u001b[0m     \u001b[1;32mdef\u001b[0m \u001b[0m__init__\u001b[0m\u001b[1;33m(\u001b[0m\u001b[0mself\u001b[0m\u001b[1;33m,\u001b[0m \u001b[0mfilename\u001b[0m\u001b[1;33m)\u001b[0m\u001b[1;33m:\u001b[0m\u001b[1;33m\u001b[0m\u001b[1;33m\u001b[0m\u001b[0m\n\u001b[1;32m---> 62\u001b[1;33m         \u001b[0mself\u001b[0m\u001b[1;33m.\u001b[0m\u001b[0m_fh\u001b[0m \u001b[1;33m=\u001b[0m \u001b[0mopen\u001b[0m\u001b[1;33m(\u001b[0m\u001b[0mfilename\u001b[0m\u001b[1;33m,\u001b[0m \u001b[1;34m'rb'\u001b[0m\u001b[1;33m)\u001b[0m\u001b[1;33m\u001b[0m\u001b[1;33m\u001b[0m\u001b[0m\n\u001b[0m\u001b[0;32m     63\u001b[0m \u001b[1;33m\u001b[0m\u001b[0m\n\u001b[0;32m     64\u001b[0m         \u001b[1;32mtry\u001b[0m\u001b[1;33m:\u001b[0m\u001b[1;33m\u001b[0m\u001b[1;33m\u001b[0m\u001b[0m\n",
      "\u001b[1;31mFileNotFoundError\u001b[0m: [Errno 2] No such file or directory: 'output10.wav'"
     ]
    }
   ],
   "source": [
    "#The file 'output10.wav' in the next cell is the file that was recorded live using the code :\n",
    "data, sampling_rate = librosa.load('output10.wav')\n",
    "%matplotlib inline\n",
    "import os\n",
    "import pandas as pd\n",
    "import librosa.display\n",
    "import glob \n",
    "\n",
    "plt.figure(figsize=(15, 5))\n",
    "librosa.display.waveplot(data, sr=sampling_rate)"
   ]
  },
  {
   "cell_type": "code",
   "execution_count": 31,
   "metadata": {},
   "outputs": [
    {
     "data": {
      "text/plain": [
       "'disgust'"
      ]
     },
     "execution_count": 31,
     "metadata": {},
     "output_type": "execute_result"
    }
   ],
   "source": [
    "## Appying extract_feature function on random file and then loading model to predict the result \n",
    "file = 'op12.wav'\n",
    "# data , sr = librosa.load(file)\n",
    "# data = np.array(data)\n",
    "ans =[]\n",
    "new_feature= extract_feature(file, mfcc=True, chroma=True, mel=True)\n",
    "ans.append(new_feature)\n",
    "ans = np.array(ans)\n",
    "# data.shape\n",
    "\n",
    "Emotion_Voice_Detection_Model.predict(ans)[0]\n",
    "\n"
   ]
  },
  {
   "cell_type": "code",
   "execution_count": null,
   "metadata": {},
   "outputs": [],
   "source": []
  }
 ],
 "metadata": {
  "kernelspec": {
   "display_name": "Python 3 (ipykernel)",
   "language": "python",
   "name": "python3"
  },
  "language_info": {
   "codemirror_mode": {
    "name": "ipython",
    "version": 3
   },
   "file_extension": ".py",
   "mimetype": "text/x-python",
   "name": "python",
   "nbconvert_exporter": "python",
   "pygments_lexer": "ipython3",
   "version": "3.9.7"
  }
 },
 "nbformat": 4,
 "nbformat_minor": 2
}
